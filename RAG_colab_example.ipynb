{
  "nbformat": 4,
  "nbformat_minor": 0,
  "metadata": {
    "colab": {
      "provenance": [],
      "authorship_tag": "ABX9TyOgc4cwXpHUQssgFofjX44s",
      "include_colab_link": true
    },
    "kernelspec": {
      "name": "python3",
      "display_name": "Python 3"
    },
    "language_info": {
      "name": "python"
    }
  },
  "cells": [
    {
      "cell_type": "markdown",
      "metadata": {
        "id": "view-in-github",
        "colab_type": "text"
      },
      "source": [
        "<a href=\"https://colab.research.google.com/github/ljkrajewski/ollama-local-rag/blob/main/RAG_colab_example.ipynb\" target=\"_parent\"><img src=\"https://colab.research.google.com/assets/colab-badge.svg\" alt=\"Open In Colab\"/></a>"
      ]
    },
    {
      "cell_type": "code",
      "execution_count": null,
      "metadata": {
        "id": "sxexC_-urcRL"
      },
      "outputs": [],
      "source": [
        "#@title Install ollama and download the tinyllama LLM\n",
        "!curl -fsSL https://ollama.com/install.sh | sh\n",
        "\n",
        "import multiprocessing\n",
        "import os\n",
        "import time\n",
        "\n",
        "def run_ollama():\n",
        "    print(f\"Running ollama on PID {os.getpid()}\")\n",
        "    os.system('ollama serve')\n",
        "\n",
        "ollama_process = multiprocessing.Process(target=run_ollama)\n",
        "ollama_process.start()\n",
        "time.sleep(10)\n",
        "\n",
        "!ollama pull tinyllama\n",
        "!ollama pull mxbai-embed-large"
      ]
    },
    {
      "cell_type": "code",
      "source": [
        "#@title Install ollama-local-rag\n",
        "!pip install python-dotenv\n",
        "!git clone https://github.com/ljkrajewski/ollama-local-rag.git\n",
        "%cd ollama-local-rag\n",
        "ENVFILE=\"\"\"\n",
        "LLM_MODEL=tinyllama\n",
        "EMBEDDING_MODEL=mxbai-embed-large\n",
        "\"\"\"\n",
        "with open('.env', 'w') as f:\n",
        "    f.write(ENVFILE)\n",
        "!pip install -r requirements.txt\n",
        "\n",
        "import nltk\n",
        "nltk.download('all')"
      ],
      "metadata": {
        "id": "VLwHKQ-wuZVY"
      },
      "execution_count": null,
      "outputs": []
    },
    {
      "cell_type": "code",
      "source": [
        "#@title Populate the database\n",
        "from google.colab import files\n",
        "\n",
        "\"\"\"\n",
        "# Upload files to index\n",
        "%cd /content/ollama-local-rag/docs\n",
        "!rm *\n",
        "uploaded = files.upload()\n",
        "for fn in uploaded.keys():\n",
        "  print('User uploaded file \"{name}\" with length {length} bytes'.format(\n",
        "      name=fn, length=len(uploaded[fn])))\n",
        "\"\"\"\n",
        "\n",
        "%cd /content/ollama-local-rag\n",
        "!python create_database.py"
      ],
      "metadata": {
        "id": "39vS4x5IqL27"
      },
      "execution_count": null,
      "outputs": []
    },
    {
      "cell_type": "code",
      "source": [
        "#@title Start gradio\n",
        "!pip install -q gradio\n",
        "\n",
        "import gradio as gr\n",
        "import re\n",
        "import subprocess\n",
        "import sys\n",
        "\n",
        "def generate(prompt):\n",
        "    \"\"\"\n",
        "    Runs a separate Python script and returns its output.\n",
        "\n",
        "    Args:\n",
        "        script_path (str): The path to the Python script to execute.\n",
        "        *args: Any arguments to pass to the script.\n",
        "\n",
        "    Returns:\n",
        "        tuple: A tuple containing the script's standard output (stdout) and standard error (stderr) as strings,\n",
        "               or None if an error occurred.\n",
        "    \"\"\"\n",
        "    script_path = \"/content/ollama-local-rag/query_data.py\"\n",
        "    args = [prompt]\n",
        "    try:\n",
        "        # Construct the command to run the script\n",
        "        command = [sys.executable, script_path] + list(args)\n",
        "\n",
        "        # Run the script and capture its output\n",
        "        process = subprocess.run(command, capture_output=True, text=True, check=True)\n",
        "\n",
        "        # Return the stdout and stderr\n",
        "        return process.stdout, process.stderr\n",
        "\n",
        "    except subprocess.CalledProcessError as e:\n",
        "        # Handle errors from the subprocess\n",
        "        print(f\"Error running script: {e}\")\n",
        "        return e.stdout, e.stderr #Return the error output if the subprocess failed.\n",
        "\n",
        "    except FileNotFoundError:\n",
        "        print(f\"Script not found: {script_path}\")\n",
        "        return None, None\n",
        "\n",
        "    except Exception as e:\n",
        "        print(f\"An unexpected error occurred: {e}\")\n",
        "        return None, None\n",
        "  return result\n",
        "\n",
        "with gr.Blocks(analytics_enabled=False) as demo:\n",
        "  with gr.Column():\n",
        "    with gr.Row():\n",
        "      prompt_box = gr.Textbox(lines=10, interactive=True, value=\"\", label=\"Prompt\")\n",
        "      with gr.Column():\n",
        "        generate_button = gr.Button(\"Generate\")\n",
        "        log_box = gr.Textbox(lines=1, interactive=False, label=\"System Messages\")\n",
        "    result_box = gr.Markdown(show_copy_button=True, label=\"Result\", show_label=True, container=True, line_breaks=True, height=\"1000\")\n",
        "  generate_button.click(fn=generate, inputs=[prompt_box], outputs=[result_box, log_box])\n",
        "\n",
        "demo.queue().launch(inline=False, share=True, debug=True)"
      ],
      "metadata": {
        "id": "zs2KGKKpv8OO"
      },
      "execution_count": null,
      "outputs": []
    },
    {
      "cell_type": "code",
      "source": [
        "\"\"\"\n",
        "#@title Start xterm\n",
        "#@markdown To query: ```python query_data.py \"<your question here>\"```\n",
        "!pip install colab-xterm #https://pypi.org/project/colab-xterm/\n",
        "%load_ext colabxterm\n",
        "%xterm\n",
        "\"\"\""
      ],
      "metadata": {
        "id": "2G-BXUFDvoHA"
      },
      "execution_count": null,
      "outputs": []
    }
  ]
}