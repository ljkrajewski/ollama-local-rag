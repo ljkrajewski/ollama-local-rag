{
  "nbformat": 4,
  "nbformat_minor": 0,
  "metadata": {
    "colab": {
      "provenance": [],
      "authorship_tag": "ABX9TyMC3p29Vnx91i16P1PMQsHj",
      "include_colab_link": true
    },
    "kernelspec": {
      "name": "python3",
      "display_name": "Python 3"
    },
    "language_info": {
      "name": "python"
    }
  },
  "cells": [
    {
      "cell_type": "markdown",
      "metadata": {
        "id": "view-in-github",
        "colab_type": "text"
      },
      "source": [
        "<a href=\"https://colab.research.google.com/github/ljkrajewski/ollama-local-rag/blob/main/RAG_colab_example.ipynb\" target=\"_parent\"><img src=\"https://colab.research.google.com/assets/colab-badge.svg\" alt=\"Open In Colab\"/></a>"
      ]
    },
    {
      "cell_type": "code",
      "execution_count": null,
      "metadata": {
        "id": "sxexC_-urcRL"
      },
      "outputs": [],
      "source": [
        "#@title Install ollama and download the tinyllama LLM\n",
        "!curl -fsSL https://ollama.com/install.sh | sh\n",
        "\n",
        "import multiprocessing\n",
        "import os\n",
        "import time\n",
        "\n",
        "def run_ollama():\n",
        "    print(f\"Running ollama on PID {os.getpid()}\")\n",
        "    os.system('ollama serve')\n",
        "\n",
        "ollama_process = multiprocessing.Process(target=run_ollama)\n",
        "ollama_process.start()\n",
        "time.sleep(10)\n",
        "\n",
        "!ollama pull tinyllama\n",
        "!ollama pull mxbai-embed-large"
      ]
    },
    {
      "cell_type": "code",
      "source": [
        "#@title Install ollama-local-rag\n",
        "!pip install python-dotenv\n",
        "!git clone https://github.com/ljkrajewski/ollama-local-rag.git\n",
        "%cd ollama-local-rag\n",
        "ENVFILE=\"\"\"\n",
        "LLM_MODEL=tinyllama\n",
        "EMBEDDING_MODEL=mxbai-embed-large\n",
        "\"\"\"\n",
        "with open('.env', 'w') as f:\n",
        "    f.write(ENVFILE)\n",
        "!pip install -r requirements.txt\n",
        "\n",
        "import nltk\n",
        "nltk.download('all')"
      ],
      "metadata": {
        "id": "VLwHKQ-wuZVY"
      },
      "execution_count": null,
      "outputs": []
    },
    {
      "cell_type": "code",
      "source": [
        "#@title Populate the database\n",
        "from google.colab import files\n",
        "\n",
        "%cd /content/ollama-local-rag/docs\n",
        "!rm *\n",
        "uploaded = files.upload()\n",
        "for fn in uploaded.keys():\n",
        "  print('User uploaded file \"{name}\" with length {length} bytes'.format(\n",
        "      name=fn, length=len(uploaded[fn])))\n",
        "\n",
        "%cd /content/ollama-local-rag\n",
        "!python create_database.py"
      ],
      "metadata": {
        "id": "39vS4x5IqL27"
      },
      "execution_count": null,
      "outputs": []
    },
    {
      "cell_type": "code",
      "source": [
        "#@title Start xterm\n",
        "#@markdown To query: ```python query_data.py \"<your question here>\"```\n",
        "!pip install colab-xterm #https://pypi.org/project/colab-xterm/\n",
        "%load_ext colabxterm\n",
        "%xterm"
      ],
      "metadata": {
        "id": "2G-BXUFDvoHA"
      },
      "execution_count": null,
      "outputs": []
    }
  ]
}