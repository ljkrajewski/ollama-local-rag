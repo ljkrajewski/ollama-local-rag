{
  "nbformat": 4,
  "nbformat_minor": 0,
  "metadata": {
    "colab": {
      "provenance": [],
      "authorship_tag": "ABX9TyNSh6Z9Mv9QLNUx0/ewhjv7",
      "include_colab_link": true
    },
    "kernelspec": {
      "name": "python3",
      "display_name": "Python 3"
    },
    "language_info": {
      "name": "python"
    }
  },
  "cells": [
    {
      "cell_type": "markdown",
      "metadata": {
        "id": "view-in-github",
        "colab_type": "text"
      },
      "source": [
        "<a href=\"https://colab.research.google.com/github/ljkrajewski/ollama-local-rag/blob/main/RAG_colab_example.ipynb\" target=\"_parent\"><img src=\"https://colab.research.google.com/assets/colab-badge.svg\" alt=\"Open In Colab\"/></a>"
      ]
    },
    {
      "cell_type": "code",
      "source": [
        "#@title User Input\n",
        "#@markdown Enter LLM and embedding models\n",
        "LLM_MODEL=tinyllama #@param string\n",
        "EMBEDDING_MODEL=mxbai-embed-large #@param string\n",
        "#@markdown Enter github.com repository of Markdown docs\n",
        "REPO_URL=ljkrajewski/analyzing_llms.git #@param string"
      ],
      "metadata": {
        "cellView": "form",
        "id": "4leshT0DUi9p"
      },
      "execution_count": null,
      "outputs": []
    },
    {
      "cell_type": "code",
      "execution_count": null,
      "metadata": {
        "id": "sxexC_-urcRL",
        "cellView": "form"
      },
      "outputs": [],
      "source": [
        "#@title Install ollama and download the tinyllama LLM\n",
        "!curl -fsSL https://ollama.com/install.sh | sh\n",
        "\n",
        "import multiprocessing\n",
        "import os\n",
        "import time\n",
        "\n",
        "def run_ollama():\n",
        "    print(f\"Running ollama on PID {os.getpid()}\")\n",
        "    os.system('ollama serve')\n",
        "\n",
        "ollama_process = multiprocessing.Process(target=run_ollama)\n",
        "ollama_process.start()\n",
        "time.sleep(10)\n",
        "\n",
        "!ollama pull {LLM_MODEL}\n",
        "!ollama pull {EMBEDDING_MODEL}"
      ]
    },
    {
      "cell_type": "code",
      "source": [
        "#@title Install ollama-local-rag\n",
        "!pip install python-dotenv\n",
        "!git clone https://github.com/ljkrajewski/ollama-local-rag.git\n",
        "%cd ollama-local-rag\n",
        "ENVFILE=f\"\"\"\n",
        "LLM_MODEL={LLM_MODEL}\n",
        "EMBEDDING_MODEL={EMBEDDING_MODEL}\n",
        "\"\"\"\n",
        "with open('.env', 'w') as f:\n",
        "    f.write(ENVFILE)\n",
        "!pip install -r requirements.txt\n",
        "\n",
        "import nltk\n",
        "nltk.download('all')"
      ],
      "metadata": {
        "id": "VLwHKQ-wuZVY",
        "cellView": "form"
      },
      "execution_count": null,
      "outputs": []
    },
    {
      "cell_type": "code",
      "source": [
        "#@title Load files to populate the database\n",
        "from google.colab import files\n",
        "\n",
        "%cd /content/ollama-local-rag/docs\n",
        "!rm *\n",
        "!git clone https://github.com/{$REPO_URL}\n",
        "\n",
        "\"\"\"\n",
        "# Upload files to index\n",
        "uploaded = files.upload()\n",
        "for fn in uploaded.keys():\n",
        "  print('User uploaded file \"{name}\" with length {length} bytes'.format(\n",
        "      name=fn, length=len(uploaded[fn])))\n",
        "\"\"\"\n",
        "\n",
        "%cd /content/ollama-local-rag\n",
        "!python create_database.py"
      ],
      "metadata": {
        "id": "39vS4x5IqL27",
        "cellView": "form"
      },
      "execution_count": null,
      "outputs": []
    },
    {
      "cell_type": "code",
      "source": [
        "#@title Start gradio\n",
        "!pip install -q gradio\n",
        "\n",
        "import gradio as gr\n",
        "import re\n",
        "import subprocess\n",
        "import sys\n",
        "\n",
        "def generate(prompt):\n",
        "  \"\"\"\n",
        "  Runs a separate Python script and returns its output.\n",
        "\n",
        "  Args:\n",
        "      script_path (str): The path to the Python script to execute.\n",
        "      *args: Any arguments to pass to the script.\n",
        "\n",
        "  Returns:\n",
        "      tuple: A tuple containing the script's standard output (stdout) and standard error (stderr) as strings,\n",
        "              or None if an error occurred.\n",
        "  \"\"\"\n",
        "  script_path = \"/content/ollama-local-rag/query_data.py\"\n",
        "  args = [prompt]\n",
        "  try:\n",
        "    # Construct the command to run the script\n",
        "    command = [sys.executable, script_path] + list(args)\n",
        "\n",
        "    # Run the script and capture its output\n",
        "    process = subprocess.run(command, capture_output=True, text=True, check=True)\n",
        "\n",
        "    # Return the stdout and stderr\n",
        "    return process.stdout, process.stderr\n",
        "\n",
        "  except subprocess.CalledProcessError as e:\n",
        "    # Handle errors from the subprocess\n",
        "    print(f\"Error running script: {e}\")\n",
        "    return e.stdout, e.stderr #Return the error output if the subprocess failed.\n",
        "\n",
        "  except FileNotFoundError:\n",
        "    print(f\"Script not found: {script_path}\")\n",
        "    return None, None\n",
        "\n",
        "  except Exception as e:\n",
        "    print(f\"An unexpected error occurred: {e}\")\n",
        "    return None, None\n",
        "\n",
        "with gr.Blocks(analytics_enabled=False) as demo:\n",
        "  with gr.Column():\n",
        "    with gr.Row():\n",
        "      prompt_box = gr.Textbox(lines=10, interactive=True, value=\"\", label=\"Prompt\")\n",
        "      with gr.Column():\n",
        "        generate_button = gr.Button(\"Generate\")\n",
        "        log_box = gr.Textbox(lines=3, interactive=False, label=\"System Messages\")\n",
        "    result_box = gr.Markdown(show_copy_button=True, label=\"Result\", show_label=True, container=True, line_breaks=True, height=\"1000\")\n",
        "  generate_button.click(fn=generate, inputs=[prompt_box], outputs=[result_box, log_box])\n",
        "\n",
        "demo.queue().launch(inline=False, share=True, debug=True)"
      ],
      "metadata": {
        "cellView": "form",
        "id": "zs2KGKKpv8OO"
      },
      "execution_count": null,
      "outputs": []
    }
  ]
}